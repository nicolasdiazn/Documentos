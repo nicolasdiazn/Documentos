{
 "cells": [
  {
   "cell_type": "code",
   "execution_count": 1,
   "metadata": {
    "collapsed": true
   },
   "outputs": [],
   "source": [
    "using PyPlot"
   ]
  },
  {
   "cell_type": "markdown",
   "metadata": {},
   "source": [
    "## Tarea\n",
    "\n",
    "* Pensar en una generalizacion de la esfera de Bloch para un qutrit (sistema de 3 niveles) y para un sistema de dos qubits. Programar una rutina que efectue dicho calculo. \n"
   ]
  },
  {
   "cell_type": "markdown",
   "metadata": {},
   "source": [
    "# Qubits y la esfera de Bloch\n",
    "\n",
    "Un qutrit es un sistema de tres niveles. Por lo mismo, vamos a poder representarlo como  \n",
    "$$|\\psi\\rangle = \\alpha |0\\rangle + \\beta |1\\rangle + \\gamma |2\\rangle$$\n",
    "donde se tiene la condición de normalización \n",
    "$$\\langle\\psi|\\psi\\rangle = |\\alpha|^2 +|\\beta|^2 + |\\gamma|^2 =1.$$\n",
    "La base $|0\\rangle$, $|1\\rangle$ y $|2\\rangle$ es la base de los qutrits. Así como un sistema de dos niveles utiliza \\textbf{$H_2$}, en este caso se utilizará el espacio \\textbf{$H_3$}\n"
   ]
  },
  {
   "cell_type": "markdown",
   "metadata": {},
   "source": [
    "## Matrices Gell-Mann\n",
    "$$\n",
    "\\lambda_1=\n",
    "\\begin{pmatrix}\n",
    "  0 & 1 & 0 \\\\\n",
    "  1 & 0 & 0 \\\\\n",
    "  0 & 0 & 0\n",
    " \\end{pmatrix},\\quad\n",
    "\\lambda_2=\n",
    "\\begin{pmatrix}\n",
    "  0 & -i & 0 \\\\\n",
    "  i &  0 & 0 \\\\\n",
    "  0 & 0 & 0\n",
    "\\end{pmatrix},\\quad\n",
    "\\lambda_3=\n",
    "\\begin{pmatrix}\n",
    "  1 &  0 & 0 \\\\\n",
    "  0 & -1 & 0 \\\\\n",
    "  0 & 0 & 0\n",
    "\\end{pmatrix} ,\\quad\n",
    "\\lambda_4=\n",
    "\\begin{pmatrix}\n",
    "  0 &  0 & 1 \\\\\n",
    "  0 &  0 & 0 \\\\\n",
    "  1 & 0 & 0\n",
    "\\end{pmatrix},\\quad\n",
    "\\lambda_5=\n",
    "\\begin{pmatrix}\n",
    "  0 &  0 & -i \\\\\n",
    "  0 &  0 & 0 \\\\\n",
    "  i & 0 & 0\n",
    "\\end{pmatrix},\\quad\n",
    "\\lambda_6=\n",
    "\\begin{pmatrix}\n",
    "  0 &  0 & 0 \\\\\n",
    "  0 &  0 & 1 \\\\\n",
    "  0 & 1 & 0\n",
    "\\end{pmatrix},\\quad\n",
    "\\\\\n",
    "\\lambda_7=\n",
    "\\begin{pmatrix}\n",
    "  0 &  0 & 0 \\\\\n",
    "  0 &  0 & i \\\\\n",
    "  0 & -i & 0\n",
    "\\end{pmatrix},\\quad\n",
    "\\lambda_4=\n",
    "\\frac{1}{\\sqrt{3}}\n",
    "\\begin{pmatrix}\n",
    "  1 &  0 & 0 \\\\\n",
    "  0 &  1 & 0 \\\\\n",
    "  0 & 0 & -2\n",
    "\\end{pmatrix}.\n",
    "$$\n",
    "\n",
    "https://arxiv.org/pdf/1111.4427v2.pdf\n",
    "\n",
    "\n",
    "Para el caso de dos qubits es necesario un sistema de 4 niveles. https://arxiv.org/pdf/1602.01548v3.pdf \n",
    "\n",
    "Esto se debe a que tendríamos algo de la forma:\n",
    "\n",
    "$$|\\psi\\rangle = a_{11} |11\\rangle + a_{00} |00\\rangle + a_{10} |10\\rangle+ a_{01} |01\\rangle$$\n",
    "con la condición $$\\langle\\psi|\\psi\\rangle = |a_{11}|^2 +|a_{00}|^2 + |a_{10}|^2 + |a_{01}|^2 =1.$$"
   ]
  },
  {
   "cell_type": "code",
   "execution_count": 2,
   "metadata": {
    "collapsed": false
   },
   "outputs": [],
   "source": [
    "lambda_1=[0. 1. 0.; 1. 0. 0.; 0. 0. 0];\n",
    "lambda_2=[0. -im 0.; im 0. 0.; 0. 0. 0];\n",
    "lambda_3=[1. 0. 0.; 0. -1. 0.; 0. 0. 0];\n",
    "lambda_4=[0. 0. 1.; 0. 0. 0.; 1. 0. 0];\n",
    "lambda_5=[0. 0. -im; 0. 0. 0.; im 0. 0];\n",
    "lambda_6=[0. 0. 0.; 0. 0. 1.; 0. 1. 0];\n",
    "lambda_7=[0. 0. 0.; 0. 0. im; 0. -im 0];\n",
    "lambda_8=(1/(3)^(1/2))*[1. 0. 0.; 0. 1. 0.; 0. 0. -2];\n",
    "lambdas=Array[lambda_1, lambda_2, lambda_3, lambda_4, lambda_5, lambda_6, lambda_7, lambda_8];"
   ]
  },
  {
   "cell_type": "code",
   "execution_count": 3,
   "metadata": {
    "collapsed": false,
    "scrolled": true
   },
   "outputs": [
    {
     "name": "stdout",
     "output_type": "stream",
     "text": [
      "iter = 1\n",
      "norm(lambda * lambda - eye(3)) = 1.0\n",
      "norm(lambda * lambda' - eye(3)) = 1.0\n",
      "trace(lambda) = 0.0\n",
      "ishermitian(lambda) = true\n",
      "iter = 2\n",
      "norm(lambda * lambda - eye(3)) = 1.0\n",
      "norm(lambda * lambda' - eye(3)) = 1.0\n",
      "trace(lambda) = 0.0 + 0.0im\n",
      "ishermitian(lambda) = true\n",
      "iter = 3\n",
      "norm(lambda * lambda - eye(3)) = 1.0\n",
      "norm(lambda * lambda' - eye(3)) = 1.0\n",
      "trace(lambda) = 0.0\n",
      "ishermitian(lambda) = true\n",
      "iter = 4\n",
      "norm(lambda * lambda - eye(3)) = 1.0\n",
      "norm(lambda * lambda' - eye(3)) = 1.0\n",
      "trace(lambda) = 0.0\n",
      "ishermitian(lambda) = true\n",
      "iter = 5\n",
      "norm(lambda * lambda - eye(3)) = 1.0\n",
      "norm(lambda * lambda' - eye(3)) = 1.0\n",
      "trace(lambda) = 0.0 + 0.0im\n",
      "ishermitian(lambda) = true\n",
      "iter = 6\n",
      "norm(lambda * lambda - eye(3)) = 1.0\n",
      "norm(lambda * lambda' - eye(3)) = 1.0\n",
      "trace(lambda) = 0.0\n",
      "ishermitian(lambda) = true\n",
      "iter = 7\n",
      "norm(lambda * lambda - eye(3)) = 1.0\n",
      "norm(lambda * lambda' - eye(3)) = 1.0\n",
      "trace(lambda) = 0.0 + 0.0im\n",
      "ishermitian(lambda) = true\n",
      "iter = 8\n",
      "norm(lambda * lambda - eye(3)) = 0.6666666666666665\n",
      "norm(lambda * lambda' - eye(3)) = 0.6666666666666665\n",
      "trace(lambda) = 0.0\n",
      "ishermitian(lambda) = true\n"
     ]
    }
   ],
   "source": [
    "for iter in eachindex(lambdas)\n",
    "    lambda=lambdas[iter]\n",
    "    @show iter\n",
    "    @show norm(lambda*lambda-eye(3))\n",
    "    @show norm(lambda*lambda'-eye(3))\n",
    "    @show trace(lambda) #se prueba la traza es cero\n",
    "    @show ishermitian(lambda) #se prueba hermiticidad\n",
    "end"
   ]
  },
  {
   "cell_type": "markdown",
   "metadata": {},
   "source": [
    "Otra de las características de las matrices anteriores es la siguiente:\n",
    "$$tr(\\lambda_i \\lambda_j) = 2\\delta_{i,j}$$\n",
    "\n",
    "Se probará a continuación."
   ]
  },
  {
   "cell_type": "code",
   "execution_count": 122,
   "metadata": {
    "collapsed": false,
    "scrolled": true
   },
   "outputs": [
    {
     "name": "stdout",
     "output_type": "stream",
     "text": [
      "i = 1\n",
      "j = 1\n",
      "trace(lambdas[i] * lambdas[j]) = 2.0\n",
      "i = 1\n",
      "j = 2\n",
      "trace(lambdas[i] * lambdas[j]) = 0.0 + 0.0im\n",
      "i = 1\n",
      "j = 3\n",
      "trace(lambdas[i] * lambdas[j]) = 0.0\n",
      "i = 1\n",
      "j = 4\n",
      "trace(lambdas[i] * lambdas[j]) = 0.0\n",
      "i = 1\n",
      "j = 5\n",
      "trace(lambdas[i] * lambdas[j]) = 0.0 + 0.0im\n",
      "i = 1\n",
      "j = 6\n",
      "trace(lambdas[i] * lambdas[j]) = 0.0\n",
      "i = 1\n",
      "j = 7\n",
      "trace(lambdas[i] * lambdas[j]) = 0.0 + 0.0im\n",
      "i = 1\n",
      "j = 8\n",
      "trace(lambdas[i] * lambdas[j]) = 0.0\n",
      "i = 2\n",
      "j = 1\n",
      "trace(lambdas[i] * lambdas[j]) = 0.0 + 0.0im\n",
      "i = 2\n",
      "j = 2\n",
      "trace(lambdas[i] * lambdas[j]) = 2.0 + 0.0im\n",
      "i = 2\n",
      "j = 3\n",
      "trace(lambdas[i] * lambdas[j]) = 0.0 + 0.0im\n",
      "i = 2\n",
      "j = 4\n",
      "trace(lambdas[i] * lambdas[j]) = 0.0 + 0.0im\n",
      "i = 2\n",
      "j = 5\n",
      "trace(lambdas[i] * lambdas[j]) = 0.0 + 0.0im\n",
      "i = 2\n",
      "j = 6\n",
      "trace(lambdas[i] * lambdas[j]) = 0.0 + 0.0im\n",
      "i = 2\n",
      "j = 7\n",
      "trace(lambdas[i] * lambdas[j]) = 0.0 + 0.0im\n",
      "i = 2\n",
      "j = 8\n",
      "trace(lambdas[i] * lambdas[j]) = 0.0 + 0.0im\n",
      "i = 3\n",
      "j = 1\n",
      "trace(lambdas[i] * lambdas[j]) = 0.0\n",
      "i = 3\n",
      "j = 2\n",
      "trace(lambdas[i] * lambdas[j]) = 0.0 + 0.0im\n",
      "i = 3\n",
      "j = 3\n",
      "trace(lambdas[i] * lambdas[j]) = 2.0\n",
      "i = 3\n",
      "j = 4\n",
      "trace(lambdas[i] * lambdas[j]) = 0.0\n",
      "i = 3\n",
      "j = 5\n",
      "trace(lambdas[i] * lambdas[j]) = 0.0 + 0.0im\n",
      "i = 3\n",
      "j = 6\n",
      "trace(lambdas[i] * lambdas[j]) = 0.0\n",
      "i = 3\n",
      "j = 7\n",
      "trace(lambdas[i] * lambdas[j]) = 0.0 + 0.0im\n",
      "i = 3\n",
      "j = 8\n",
      "trace(lambdas[i] * lambdas[j]) = 0.0\n",
      "i = 4\n",
      "j = 1\n",
      "trace(lambdas[i] * lambdas[j]) = 0.0\n",
      "i = 4\n",
      "j = 2\n",
      "trace(lambdas[i] * lambdas[j]) = 0.0 + 0.0im\n",
      "i = 4\n",
      "j = 3\n",
      "trace(lambdas[i] * lambdas[j]) = 0.0\n",
      "i = 4\n",
      "j = 4\n",
      "trace(lambdas[i] * lambdas[j]) = 2.0\n",
      "i = 4\n",
      "j = 5\n",
      "trace(lambdas[i] * lambdas[j]) = 0.0 + 0.0im\n",
      "i = 4\n",
      "j = 6\n",
      "trace(lambdas[i] * lambdas[j]) = 0.0\n",
      "i = 4\n",
      "j = 7\n",
      "trace(lambdas[i] * lambdas[j]) = 0.0 + 0.0im\n",
      "i = 4\n",
      "j = 8\n",
      "trace(lambdas[i] * lambdas[j]) = 0.0\n",
      "i = 5\n",
      "j = 1\n",
      "trace(lambdas[i] * lambdas[j]) = 0.0 + 0.0im\n",
      "i = 5\n",
      "j = 2\n",
      "trace(lambdas[i] * lambdas[j]) = 0.0 + 0.0im\n",
      "i = 5\n",
      "j = 3\n",
      "trace(lambdas[i] * lambdas[j]) = 0.0 + 0.0im\n",
      "i = 5\n",
      "j = 4\n",
      "trace(lambdas[i] * lambdas[j]) = 0.0 + 0.0im\n",
      "i = 5\n",
      "j = 5\n",
      "trace(lambdas[i] * lambdas[j]) = 2.0 + 0.0im\n",
      "i = 5\n",
      "j = 6\n",
      "trace(lambdas[i] * lambdas[j]) = 0.0 + 0.0im\n",
      "i = 5\n",
      "j = 7\n",
      "trace(lambdas[i] * lambdas[j]) = 0.0 + 0.0im\n",
      "i = 5\n",
      "j = 8\n",
      "trace(lambdas[i] * lambdas[j]) = 0.0 + 0.0im\n",
      "i = 6\n",
      "j = 1\n",
      "trace(lambdas[i] * lambdas[j]) = 0.0\n",
      "i = 6\n",
      "j = 2\n",
      "trace(lambdas[i] * lambdas[j]) = 0.0 + 0.0im\n",
      "i = 6\n",
      "j = 3\n",
      "trace(lambdas[i] * lambdas[j]) = 0.0\n",
      "i = 6\n",
      "j = 4\n",
      "trace(lambdas[i] * lambdas[j]) = 0.0\n",
      "i = 6\n",
      "j = 5\n",
      "trace(lambdas[i] * lambdas[j]) = 0.0 + 0.0im\n",
      "i = 6\n",
      "j = 6\n",
      "trace(lambdas[i] * lambdas[j]) = 2.0\n",
      "i = 6\n",
      "j = 7\n",
      "trace(lambdas[i] * lambdas[j]) = 0.0 + 0.0im\n",
      "i = 6\n",
      "j = 8\n",
      "trace(lambdas[i] * lambdas[j]) = 0.0\n",
      "i = 7\n",
      "j = 1\n",
      "trace(lambdas[i] * lambdas[j]) = 0.0 + 0.0im\n",
      "i = 7\n",
      "j = 2\n",
      "trace(lambdas[i] * lambdas[j]) = 0.0 + 0.0im\n",
      "i = 7\n",
      "j = 3\n",
      "trace(lambdas[i] * lambdas[j]) = 0.0 + 0.0im\n",
      "i = 7\n",
      "j = 4\n",
      "trace(lambdas[i] * lambdas[j]) = 0.0 + 0.0im\n",
      "i = 7\n",
      "j = 5\n",
      "trace(lambdas[i] * lambdas[j]) = 0.0 + 0.0im\n",
      "i = 7\n",
      "j = 6\n",
      "trace(lambdas[i] * lambdas[j]) = 0.0 + 0.0im\n",
      "i = 7\n",
      "j = 7\n",
      "trace(lambdas[i] * lambdas[j]) = 2.0 + 0.0im\n",
      "i = 7\n",
      "j = 8\n",
      "trace(lambdas[i] * lambdas[j]) = 0.0 + 0.0im\n",
      "i = 8\n",
      "j = 1\n",
      "trace(lambdas[i] * lambdas[j]) = 0.0\n",
      "i = 8\n",
      "j = 2\n",
      "trace(lambdas[i] * lambdas[j]) = 0.0 + 0.0im\n",
      "i = 8\n",
      "j = 3\n",
      "trace(lambdas[i] * lambdas[j]) = 0.0\n",
      "i = 8\n",
      "j = 4\n",
      "trace(lambdas[i] * lambdas[j]) = 0.0\n",
      "i = 8\n",
      "j = 5\n",
      "trace(lambdas[i] * lambdas[j]) = 0.0 + 0.0im\n",
      "i = 8\n",
      "j = 6\n",
      "trace(lambdas[i] * lambdas[j]) = 0.0\n",
      "i = 8\n",
      "j = 7\n",
      "trace(lambdas[i] * lambdas[j]) = 0.0 + 0.0im\n",
      "i = 8\n",
      "j = 8\n",
      "trace(lambdas[i] * lambdas[j]) = 2.0000000000000004\n"
     ]
    }
   ],
   "source": [
    "#Con lo siguiente veremos la propiedad de la traza de las matrices de Gell-Mann\n",
    "for i in 1:length(lambdas), j in 1:length(lambdas)\n",
    "    if !=(i,j)\n",
    "        @show i\n",
    "        @show j\n",
    "        @show trace(lambdas[i]*lambdas[j])\n",
    "    else\n",
    "        @show i\n",
    "        @show j\n",
    "        @show trace(lambdas[i]*lambdas[j])\n",
    "    end\n",
    "end"
   ]
  },
  {
   "cell_type": "code",
   "execution_count": 124,
   "metadata": {
    "collapsed": false
   },
   "outputs": [
    {
     "name": "stderr",
     "output_type": "stream",
     "text": [
      "WARNING: Method definition projector(Any) in module Main at In[123]:4 overwritten at In[124]:4.\n",
      "WARNING: Method definition random_state() in module Main at In[123]:11 overwritten at In[124]:11.\n",
      "WARNING: Method definition random_state(Any) in module Main at In[123]:11 overwritten at In[124]:11.\n",
      "WARNING: replacing docs for 'random_state :: Union{Tuple{Any},Tuple{}}' in module 'Main'.\n"
     ]
    },
    {
     "name": "stdout",
     "output_type": "stream",
     "text": [
      "psi = Complex{Float64}[0.256955-0.118865im; -0.228882+0.335884im; -0.754427+0.430673im]\n",
      "stateToBloch(psi) = [-0.197474,0.118202,-0.0850502,-0.490092,0.0419782,0.634662,-0.309653,-0.729725]\n"
     ]
    },
    {
     "name": "stderr",
     "output_type": "stream",
     "text": [
      "WARNING: Method definition stateToBloch(Array) in module Main at In[123]:24 overwritten at In[124]:24.\n",
      "WARNING: replacing docs for 'stateToBloch :: Tuple{Array}' in module 'Main'.\n"
     ]
    },
    {
     "data": {
      "text/plain": [
       "8-element Array{Float64,1}:\n",
       " -0.197474 \n",
       "  0.118202 \n",
       " -0.0850502\n",
       " -0.490092 \n",
       "  0.0419782\n",
       "  0.634662 \n",
       " -0.309653 \n",
       " -0.729725 "
      ]
     },
     "execution_count": 124,
     "metadata": {},
     "output_type": "execute_result"
    }
   ],
   "source": [
    "#Usaremos las siguientes funciones\n",
    "\n",
    "function projector(state)\n",
    "    return state*state'\n",
    "end\n",
    "\n",
    "\"\"\"\n",
    "Esta función crea un estado cuántico aleatorio. La dimension por defecto es 2. \n",
    "\"\"\"\n",
    "function random_state(dim=3) #Ahora requerimos tres dimensiones\n",
    "    v=randn(1,dim)+randn(1,dim)im\n",
    "    v=v/norm(v)\n",
    "    return v'\n",
    "end\n",
    "\n",
    "psi=random_state()\n",
    "\n",
    "\"\"\"\n",
    "Function that takes a pure 2-level state and returns the Bloch sphere representation \n",
    "\"\"\"\n",
    "#ahora será a pure 3-level state\n",
    "\n",
    "function stateToBloch(psi::Array)\n",
    "    lista = Float64[]\n",
    "    for lambda in lambdas\n",
    "        push!(lista, real(trace(lambda*projector(psi))))\n",
    "    end\n",
    "    lista\n",
    "end\n",
    "\n",
    "@show psi\n",
    "@show stateToBloch(psi)"
   ]
  },
  {
   "cell_type": "markdown",
   "metadata": {},
   "source": [
    "\n",
    "* Compare el calculo de la traza de un operador hermitico aleatorio exacto con el valor esperado con respecto a un solo estado aleatorio:\n",
    "  * Construya un operador aleatorio hermítico, partiendo de un arreglo de $n\\times n$ de números aleatorios complejos (sea esa matriz $A$). El observable a usar será $H=A+A^\\dagger$ (muestre numérica que efectivamente es hermítico.\n",
    "  * Use un estado aleatorio de la dimension correspondiente para calcular el valor esperado.\n",
    "  * Compare con el valor de $\\text{tr} H$. Debe ser muy cercano, cuando lo dividimos por la dimension del sistema. \n",
    "  * Calcule la diferencia como función de la dimensión del sistema y grafiquelo. \n",
    "  * Repita el ejercicio para una familia de operadores que varien con la dimensión pero que sean acotados (el espectro debe permanecer acotado a medida que la dimensión aumenta).\n"
   ]
  },
  {
   "cell_type": "code",
   "execution_count": 125,
   "metadata": {
    "collapsed": false
   },
   "outputs": [
    {
     "name": "stderr",
     "output_type": "stream",
     "text": [
      "WARNING: Method definition Obs_Hermitian(Any) in module Main at In[6]:3 overwritten at In[125]:3.\n"
     ]
    },
    {
     "data": {
      "text/plain": [
       "4×4 Array{Complex{Float64},2}:\n",
       " 0.711747+0.0im        1.45832+0.234362im  …   1.97271+0.937513im\n",
       "  1.45832-0.234362im   1.46329+0.0im          0.580984+1.34529im \n",
       "  1.01004-0.2264im    0.816036-1.91788im       1.70115+1.72241im \n",
       "  1.97271-0.937513im  0.580984-1.34529im       1.30744+0.0im     "
      ]
     },
     "execution_count": 125,
     "metadata": {},
     "output_type": "execute_result"
    }
   ],
   "source": [
    "function Obs_Hermitian(n)\n",
    "    #construimos primero una matriz cuadrada, nxn , con entradas en los complejos. \n",
    "    a=rand(n,n)+1im*rand(n,n)\n",
    "    #Posteriormente se utiliza la función triu(a,1) para obtener la matriz triangular superior \n",
    "    #a partir de la entrada 1\n",
    "    b=triu(a,1)\n",
    "    #Se construye la matriz M, la cual toma b (matriz triangular superior)+la transpuesta conjugada de b \n",
    "    #(es decir una matriz trian inferior) y luego le suma una diagonal rándom. \n",
    "    M=b+transpose(conj(b))+Diagonal(rand(n,n))\n",
    "    #Construimos el observable H y se comprueba que sea hermítico. \n",
    "    H = M + M'\n",
    "    #@show ishermitian(M)\n",
    "    #@show ishermitian(H)\n",
    "    return H\n",
    "end\n",
    "\n",
    "Obs_Hermitian(4)"
   ]
  },
  {
   "cell_type": "markdown",
   "metadata": {},
   "source": [
    "\n",
    "### ¿Que es un valor esperado?\n",
    "\n",
    "El valor esperado de $A$ está dado por \n",
    "\\begin{align}\n",
    "\\langle \\psi| A |\\psi\\rangle &= \\langle \\psi|\\sum_{ij}\\alpha_{ij} |i\\rangle\\langle j|\\sum_k c_k |k\\rangle\\\\\n",
    " &= \\langle \\psi|\\sum_{ij}\\alpha_{ij} c_j|i\\rangle \\\\\n",
    " &= \\sum_k c_k^* \\langle k| \\sum_{ij}\\alpha_{ij} c_j|i\\rangle \\\\\n",
    " &= \\sum_{ij} c_i^*\\alpha_{ij} c_j.\n",
    "\\end{align}\n",
    "\n",
    "Notemos que el valor esperado tambien se puede expresar como la traza del observable por el proyector correspondiente al estado:\n",
    "\\begin{align}\n",
    "\\text{tr} |\\psi\\rangle\\langle \\psi| A &= \\text{tr} \\sum_{ij} c_j c_i^* |j\\rangle\\langle i| \\sum_{kl}\\alpha_{kl} |k\\rangle\\langle l|\\\\\n",
    "&=\\text{tr} \\sum_{ijl}c_j c_i^* \\alpha_{il}|j\\rangle\\langle l|\\\\\n",
    "&=\\text{tr} \\sum_{ij}c_j c_i^* \\alpha_{ij}\\\\\n",
    "\\end{align}\n",
    "por lo que concluimos que \n",
    "$$\n",
    "\\langle \\psi| A |\\psi\\rangle = \\text{tr} |\\psi\\rangle\\langle \\psi| A.\n",
    "$$\n",
    "Esto nos permite establecer un lenguaje paralelo para las mediciones, usando proyectores. Vamos a poder generalizar esto mas adeltante a otras matrices de rango mayor. "
   ]
  },
  {
   "cell_type": "code",
   "execution_count": 126,
   "metadata": {
    "collapsed": false
   },
   "outputs": [
    {
     "name": "stdout",
     "output_type": "stream",
     "text": [
      "norm(P * P - P) = 1.0964044567322047e-16\n",
      "trace(P) = 1.0 + 0.0im\n"
     ]
    }
   ],
   "source": [
    "#Las funciones que usaremos ya quedaron definidas. Comprobamos que sea un proyector utilizando lo\n",
    "# siguiente.\n",
    "\n",
    "P=projector(random_state(4));\n",
    "@show norm(P*P-P);\n",
    "@show trace(P);"
   ]
  },
  {
   "cell_type": "code",
   "execution_count": 127,
   "metadata": {
    "collapsed": false
   },
   "outputs": [
    {
     "name": "stdout",
     "output_type": "stream",
     "text": [
      "Traza = 4.399501684408592 + 0.0im\n",
      "Traza / n = 1.099875421102148 + 0.0im\n",
      "projector(n) = 16\n",
      "Traza * projector(n) = 70.39202695053747 + 0.0im\n",
      "(Traza * projector(n)) / n = 17.598006737634368 + 0.0im\n"
     ]
    },
    {
     "name": "stderr",
     "output_type": "stream",
     "text": [
      "WARNING: Method definition valor_esperado(Any) in module Main at In[8]:4 overwritten at In[127]:4.\n"
     ]
    }
   ],
   "source": [
    "#Calculamos el valor esperado como la traza del observable (H) por el proyector correspondiente al estado.\n",
    "# n será la dimensión\n",
    "function valor_esperado(n)\n",
    "    Traza = (trace(Obs_Hermitian(n)))\n",
    "    @show Traza\n",
    "    @show Traza/n\n",
    "    @show projector(n)\n",
    "    @show Traza*projector(n)\n",
    "    @show (Traza*projector(n))/n;\n",
    "end\n",
    "\n",
    "valor_esperado(4);"
   ]
  },
  {
   "cell_type": "markdown",
   "metadata": {
    "collapsed": true
   },
   "source": [
    "Aparentemente lo anterior no se cumple."
   ]
  },
  {
   "cell_type": "code",
   "execution_count": 128,
   "metadata": {
    "collapsed": false
   },
   "outputs": [
    {
     "name": "stderr",
     "output_type": "stream",
     "text": [
      "WARNING: Method definition diferencia(Any) in module Main at In[103]:2 overwritten at In[128]:2.\n"
     ]
    },
    {
     "data": {
      "text/plain": [
       "diferencia (generic function with 1 method)"
      ]
     },
     "execution_count": 128,
     "metadata": {},
     "output_type": "execute_result"
    }
   ],
   "source": [
    "function diferencia(n)\n",
    "    Traza = (trace(Obs_Hermitian(n)))\n",
    "    ((Traza*projector(n)))-Traza/n\n",
    "end"
   ]
  },
  {
   "cell_type": "code",
   "execution_count": 129,
   "metadata": {
    "collapsed": false
   },
   "outputs": [
    {
     "data": {
      "image/png": "[encoded data removed]",
      "text/plain": [
       "PyPlot.Figure(PyObject <matplotlib.figure.Figure object at 0x7fce756edbe0>)"
      ]
     },
     "metadata": {},
     "output_type": "display_data"
    },
    {
     "name": "stderr",
     "output_type": "stream",
     "text": [
      "WARNING: Method definition graf_diferencia(Any) in module Main at In[107]:2 overwritten at In[129]:2.\n"
     ]
    },
    {
     "data": {
      "text/plain": [
       "PyObject <matplotlib.text.Text object at 0x7fce75649358>"
      ]
     },
     "execution_count": 129,
     "metadata": {},
     "output_type": "execute_result"
    }
   ],
   "source": [
    "function graf_diferencia(n) \n",
    "    v = []\n",
    "    x = collect(1:n)\n",
    "    for i in x\n",
    "    l = real(diferencia(i))\n",
    "    push!(v,l)\n",
    "    end\n",
    "    plot(x,v)\n",
    "    grid(\"on\")\n",
    "    xlabel(\"Dimensión\")\n",
    "    ylabel(\"Diferencia\")\n",
    "    title(\"Gráfica Diferencia Vs Dimensión\")\n",
    "end\n",
    "\n",
    "graf_diferencia(50)"
   ]
  },
  {
   "cell_type": "code",
   "execution_count": 130,
   "metadata": {
    "collapsed": false
   },
   "outputs": [
    {
     "data": {
      "image/png": "[encoded data removed]",
      "text/plain": [
       "PyPlot.Figure(PyObject <matplotlib.figure.Figure object at 0x7fce75691cc0>)"
      ]
     },
     "metadata": {},
     "output_type": "display_data"
    },
    {
     "name": "stderr",
     "output_type": "stream",
     "text": [
      "WARNING: Method definition diferencia2(Any) in module Main at In[119]:2 overwritten at In[130]:2.\n",
      "WARNING: Method definition graf_diferencia2(Any) in module Main at In[119]:7 overwritten at In[130]:7.\n"
     ]
    },
    {
     "data": {
      "text/plain": [
       "PyObject <matplotlib.text.Text object at 0x7fce755b4da0>"
      ]
     },
     "execution_count": 130,
     "metadata": {},
     "output_type": "execute_result"
    }
   ],
   "source": [
    "function diferencia2(n)\n",
    "    Traza = (trace(Obs_Hermitian(n)))\n",
    "    ((Traza*projector(n))/n)-Traza\n",
    "end\n",
    "\n",
    "function graf_diferencia2(n) \n",
    "    v = []\n",
    "    x = collect(1:n)\n",
    "    for i in x\n",
    "    l = real(diferencia2(i))\n",
    "    push!(v,l)\n",
    "    end\n",
    "    plot(x,v)\n",
    "    grid(\"on\")\n",
    "    xlabel(\"Dimensión\")\n",
    "    ylabel(\"Diferencia\")\n",
    "    title(\"Gráfica Diferencia 2 Vs Dimensión\")\n",
    "end\n",
    "\n",
    "graf_diferencia2(50)"
   ]
  },
  {
   "cell_type": "code",
   "execution_count": null,
   "metadata": {
    "collapsed": true
   },
   "outputs": [],
   "source": []
  }
 ],
 "metadata": {
  "anaconda-cloud": {},
  "kernelspec": {
   "display_name": "Julia 0.5.0",
   "language": "julia",
   "name": "julia-0.5"
  },
  "language_info": {
   "file_extension": ".jl",
   "mimetype": "application/julia",
   "name": "julia",
   "version": "0.5.0"
  }
 },
 "nbformat": 4,
 "nbformat_minor": 0
}
